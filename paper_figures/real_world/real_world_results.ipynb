{
 "cells": [
  {
   "cell_type": "code",
   "execution_count": 1,
   "metadata": {},
   "outputs": [],
   "source": [
    "import numpy as np\n",
    "import plotly.express as px\n",
    "import pandas as pd\n",
    "\n",
    "def load_all_ancients(replace_nan=True):\n",
    "  x = np.load('data/genotype_ancient_refs.npy')\n",
    "  \n",
    "  #x_s = select_snps(x)\n",
    "\n",
    "  # normalization\n",
    "  genomean_path = 'data/genomean.csv'\n",
    "  genomean = pd.read_csv(genomean_path, header=0)\n",
    "  genomean = genomean['x'].values\n",
    "  snp_drift = np.sqrt((genomean / 2) * (1 - genomean/2))\n",
    "\n",
    "  # replace nans by genomean\n",
    "  if replace_nan:\n",
    "    x_s_i = np.nan_to_num(x, nan=genomean)\n",
    "  else:\n",
    "    x_s_i = x\n",
    "\n",
    "  # normalization\n",
    "  x_s_i_c = (x_s_i - genomean) / snp_drift\n",
    "\n",
    "  return x_s_i_c\n",
    "\n",
    "def compute_embeddings(V, z):   \n",
    "  index = np.isnan(z)\n",
    "  z_stern=np.delete(z, index)\n",
    "  P_stern = np.delete(V[:, 0:2], index, axis = 0)\n",
    "  dotp = np.dot(P_stern.T, P_stern).astype(float)\n",
    "\n",
    "  dotz = np.dot(P_stern.T, z_stern).astype(float)\n",
    "  tau = np.dot(np.linalg.inv(dotp), dotz)\n",
    "  return tau\n",
    "\n",
    "def var_discrepency(V_obs, var_tau_r):\n",
    "  \"\"\"\n",
    "  Computes the variance discrepancy between the estimated embedding and the true embedding.\n",
    "\n",
    "  Parameters:\n",
    "  - V_obs (numpy.ndarray): Eigenvector matrix at the observed features that were used to compute.\n",
    "  - var_tau_r (numpy.ndarray): The expected covariance matrix of the PCs (all but the first two).\n",
    "\n",
    "  Returns:\n",
    "  - numpy.ndarray: The variance in discrepancy between the estimated embedding and the true embedding.\n",
    "  \"\"\"\n",
    "  matrix_of_linear_map = - np.linalg.inv(V_obs[:, 0:2].T @ V_obs[:, 0:2]) @ V_obs[:, 0:2].T @ V_obs[:, 2:]\n",
    "  return matrix_of_linear_map @ var_tau_r @ matrix_of_linear_map.T\n"
   ]
  },
  {
   "cell_type": "code",
   "execution_count": 2,
   "metadata": {},
   "outputs": [],
   "source": [
    "V = np.load('data/eigenvectors.npy')\n",
    "Lambda = np.load('data/eigenvalues.npy')"
   ]
  },
  {
   "cell_type": "code",
   "execution_count": 3,
   "metadata": {},
   "outputs": [],
   "source": [
    "# load data\n",
    "d = load_all_ancients(replace_nan=False)"
   ]
  },
  {
   "cell_type": "code",
   "execution_count": 4,
   "metadata": {},
   "outputs": [],
   "source": [
    "# get low-coverage samples\n",
    "nan_counts = [np.count_nonzero(~np.isnan(d[i])) for i in range(np.shape(d)[0])]"
   ]
  },
  {
   "cell_type": "code",
   "execution_count": 5,
   "metadata": {},
   "outputs": [
    {
     "name": "stdout",
     "output_type": "stream",
     "text": [
      "(498, 540247)\n"
     ]
    }
   ],
   "source": [
    "low_coverage_ancient_indices = np.where(np.array(nan_counts)/np.shape(d)[1] < 0.05)[0]\n",
    "low_coverage_ancients = d[low_coverage_ancient_indices]\n",
    "print(low_coverage_ancients.shape)"
   ]
  },
  {
   "cell_type": "code",
   "execution_count": 6,
   "metadata": {},
   "outputs": [
    {
     "name": "stdout",
     "output_type": "stream",
     "text": [
      "(1947, 540247)\n"
     ]
    }
   ],
   "source": [
    "high_coverage_ancient_indices = np.where(np.array(nan_counts)/np.shape(d)[1] > 0.7)[0]\n",
    "high_coverage_ancients = d[high_coverage_ancient_indices]\n",
    "print(high_coverage_ancients.shape)"
   ]
  },
  {
   "cell_type": "code",
   "execution_count": 7,
   "metadata": {},
   "outputs": [
    {
     "data": {
      "text/html": [
       "<div>\n",
       "<style scoped>\n",
       "    .dataframe tbody tr th:only-of-type {\n",
       "        vertical-align: middle;\n",
       "    }\n",
       "\n",
       "    .dataframe tbody tr th {\n",
       "        vertical-align: top;\n",
       "    }\n",
       "\n",
       "    .dataframe thead th {\n",
       "        text-align: right;\n",
       "    }\n",
       "</style>\n",
       "<table border=\"1\" class=\"dataframe\">\n",
       "  <thead>\n",
       "    <tr style=\"text-align: right;\">\n",
       "      <th></th>\n",
       "      <th>Genetic_ID</th>\n",
       "      <th>Master_ID</th>\n",
       "      <th>Data_source</th>\n",
       "      <th>Group_ID</th>\n",
       "      <th>political_entity</th>\n",
       "      <th>epoch</th>\n",
       "    </tr>\n",
       "  </thead>\n",
       "  <tbody>\n",
       "    <tr>\n",
       "      <th>53</th>\n",
       "      <td>I14343_d</td>\n",
       "      <td>I14343</td>\n",
       "      <td>1240K</td>\n",
       "      <td>Armenia_EBA_KuraAraxes</td>\n",
       "      <td>Armenia</td>\n",
       "      <td>Chalcolithic (Copper Age) (C)</td>\n",
       "    </tr>\n",
       "    <tr>\n",
       "      <th>55</th>\n",
       "      <td>I14346</td>\n",
       "      <td>I14346</td>\n",
       "      <td>1240K</td>\n",
       "      <td>Armenia_EBA_KuraAraxes</td>\n",
       "      <td>Armenia</td>\n",
       "      <td>Late Neolithic (LN)</td>\n",
       "    </tr>\n",
       "    <tr>\n",
       "      <th>57</th>\n",
       "      <td>I16706</td>\n",
       "      <td>I16706</td>\n",
       "      <td>1240K</td>\n",
       "      <td>Armenia_EBA_KuraAraxes</td>\n",
       "      <td>Armenia</td>\n",
       "      <td>Late Neolithic (LN)</td>\n",
       "    </tr>\n",
       "    <tr>\n",
       "      <th>131</th>\n",
       "      <td>I14605</td>\n",
       "      <td>I14605</td>\n",
       "      <td>1240K</td>\n",
       "      <td>Armenia_LBA_EIA</td>\n",
       "      <td>Armenia</td>\n",
       "      <td>Early Iron Age (EIA)</td>\n",
       "    </tr>\n",
       "    <tr>\n",
       "      <th>198</th>\n",
       "      <td>I19340_v54.1_addback</td>\n",
       "      <td>I19340</td>\n",
       "      <td>1240K</td>\n",
       "      <td>Armenia_MBA</td>\n",
       "      <td>Armenia</td>\n",
       "      <td>Chalcolithic (Copper Age) (C)</td>\n",
       "    </tr>\n",
       "  </tbody>\n",
       "</table>\n",
       "</div>"
      ],
      "text/plain": [
       "               Genetic_ID Master_ID Data_source                Group_ID  \\\n",
       "53               I14343_d    I14343       1240K  Armenia_EBA_KuraAraxes   \n",
       "55                 I14346    I14346       1240K  Armenia_EBA_KuraAraxes   \n",
       "57                 I16706    I16706       1240K  Armenia_EBA_KuraAraxes   \n",
       "131                I14605    I14605       1240K         Armenia_LBA_EIA   \n",
       "198  I19340_v54.1_addback    I19340       1240K             Armenia_MBA   \n",
       "\n",
       "    political_entity                          epoch  \n",
       "53           Armenia  Chalcolithic (Copper Age) (C)  \n",
       "55           Armenia            Late Neolithic (LN)  \n",
       "57           Armenia            Late Neolithic (LN)  \n",
       "131          Armenia           Early Iron Age (EIA)  \n",
       "198          Armenia  Chalcolithic (Copper Age) (C)  "
      ]
     },
     "execution_count": 7,
     "metadata": {},
     "output_type": "execute_result"
    }
   ],
   "source": [
    "modern_df = pd.read_csv('data/embedding_modern_refs.csv')\n",
    "palette = px.colors.qualitative.Vivid + px.colors.qualitative.Vivid\n",
    "palette = [px.colors.unconvert_from_RGB_255(px.colors.unlabel_rgb(c)) for c in palette]\n",
    "\n",
    "metadata = pd.read_csv('data/metadata_ancient_refs.csv', header=0)\n",
    "metadata_high = metadata.loc[high_coverage_ancient_indices]\n",
    "metadata = metadata.loc[low_coverage_ancient_indices]\n",
    "metadata.head()"
   ]
  },
  {
   "cell_type": "code",
   "execution_count": 8,
   "metadata": {},
   "outputs": [
    {
     "name": "stdout",
     "output_type": "stream",
     "text": [
      "[136, 140, 353, 459]\n",
      "[21772, 9116, 11481, 14892]\n",
      "<bound method NDFrame.head of             Genetic_ID Master_ID Data_source                        Group_ID  \\\n",
      "2202  STR266b_noUDG.SG   STR266b     Shotgun        Germany_EarlyMedieval.SG   \n",
      "2248             I2014     I2014       1240K                  Germany_EN_LBK   \n",
      "5141    VK470_noUDG.SG     VK470     Shotgun                Russia_Viking.SG   \n",
      "6292   cth842_noUDG.SG    cth842     Shotgun  Turkey_Catalhoyuk_N_Ceramic.SG   \n",
      "\n",
      "     political_entity                    epoch  coverage  \n",
      "2202          Germany  Early Middle Ages (EMA)     21772  \n",
      "2248          Germany               Mesolithic      9116  \n",
      "5141           Russia  Early Middle Ages (EMA)     11481  \n",
      "6292           Turkey               Mesolithic     14892  >\n"
     ]
    },
    {
     "name": "stderr",
     "output_type": "stream",
     "text": [
      "/tmp/ipykernel_3595808/3904452864.py:28: SettingWithCopyWarning: \n",
      "A value is trying to be set on a copy of a slice from a DataFrame.\n",
      "Try using .loc[row_indexer,col_indexer] = value instead\n",
      "\n",
      "See the caveats in the documentation: https://pandas.pydata.org/pandas-docs/stable/user_guide/indexing.html#returning-a-view-versus-a-copy\n",
      "  metadata_sel['coverage'] = [np.count_nonzero(~np.isnan(s[i])) for i in range(np.shape(s)[0])]\n",
      "/tmp/ipykernel_3595808/3904452864.py:30: SettingWithCopyWarning: \n",
      "A value is trying to be set on a copy of a slice from a DataFrame.\n",
      "Try using .loc[row_indexer,col_indexer] = value instead\n",
      "\n",
      "See the caveats in the documentation: https://pandas.pydata.org/pandas-docs/stable/user_guide/indexing.html#returning-a-view-versus-a-copy\n",
      "  metadata_sel_high['coverage'] = [np.count_nonzero(~np.isnan(s_high[i])) for i in range(np.shape(s_high)[0])]\n"
     ]
    }
   ],
   "source": [
    "np.random.seed(100)\n",
    "selection = np.random.choice(np.arange(0, low_coverage_ancients.shape[0]), size=5, replace=False)\n",
    "selection_high = np.random.choice(np.arange(0, high_coverage_ancients.shape[0]), size=4, replace=False)\n",
    "selection = np.sort(selection)\n",
    "selection_high = np.sort(selection_high)\n",
    "selection = [136, 140, 353, 459]\n",
    "print(selection)\n",
    "s = low_coverage_ancients[selection]\n",
    "s_high = high_coverage_ancients[selection_high]\n",
    "print([np.count_nonzero(~np.isnan(s[i])) for i in range(np.shape(s)[0])])\n",
    "s_emb = np.array([compute_embeddings(V, i) for i in s])\n",
    "s_emb_high = np.array([compute_embeddings(V, i) for i in s_high])\n",
    "factors = np.load('data/factors.npy')\n",
    "vars = []\n",
    "for i in s:\n",
    "  observed_inds = ~np.isnan(i)\n",
    "  var_dis = var_discrepency(V[observed_inds], np.diag(Lambda[2:] * factors[2:]))\n",
    "  vars.append(var_dis)\n",
    "\n",
    "vars_high = []\n",
    "for i in s_high:\n",
    "  observed_inds = ~np.isnan(i)\n",
    "  var_dis = var_discrepency(V[observed_inds], np.diag(Lambda[2:] * factors[2:]))\n",
    "  vars_high.append(var_dis)\n",
    "\n",
    "metadata_sel = metadata.iloc[selection]\n",
    "metadata_sel['coverage'] = [np.count_nonzero(~np.isnan(s[i])) for i in range(np.shape(s)[0])]\n",
    "metadata_sel_high = metadata_high.iloc[selection_high]\n",
    "metadata_sel_high['coverage'] = [np.count_nonzero(~np.isnan(s_high[i])) for i in range(np.shape(s_high)[0])]\n",
    "print(metadata_sel.head)\n",
    "metadata_sel.to_csv('paper_figures/real_world/metadata_ancients_high_uncertainty.csv')\n",
    "np.save('paper_figures/real_world/variance_ancients_high_uncertainty.npy', np.array(vars))\n",
    "np.save('paper_figures/real_world/mean_ancients_high_uncertainty.npy', np.array(s_emb))\n",
    "metadata_sel_high.to_csv('paper_figures/real_world/metadata_ancients_low_uncertainty.csv')\n",
    "np.save('paper_figures/real_world/variance_ancients_low_uncertainty.npy', np.array(vars_high))\n",
    "np.save('paper_figures/real_world/mean_ancients_low_uncertainty.npy', np.array(s_emb_high))"
   ]
  },
  {
   "cell_type": "code",
   "execution_count": 10,
   "metadata": {},
   "outputs": [],
   "source": [
    "np.save('paper_figures/real_world/genotypes_low_uncertainty.npy', np.array(s_high))\n",
    "np.save('paper_figures/real_world/genotypes_high_uncertainty.npy', np.array(s))"
   ]
  }
 ],
 "metadata": {
  "kernelspec": {
   "display_name": "Python 3",
   "language": "python",
   "name": "python3"
  },
  "language_info": {
   "codemirror_mode": {
    "name": "ipython",
    "version": 3
   },
   "file_extension": ".py",
   "mimetype": "text/x-python",
   "name": "python",
   "nbconvert_exporter": "python",
   "pygments_lexer": "ipython3",
   "version": "3.12.7"
  }
 },
 "nbformat": 4,
 "nbformat_minor": 2
}
