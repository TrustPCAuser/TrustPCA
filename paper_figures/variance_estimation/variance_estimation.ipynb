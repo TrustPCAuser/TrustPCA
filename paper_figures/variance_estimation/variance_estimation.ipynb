{
 "cells": [
  {
   "cell_type": "code",
   "execution_count": 1,
   "metadata": {},
   "outputs": [],
   "source": [
    "import numpy as np\n",
    "import pandas as pd"
   ]
  },
  {
   "cell_type": "code",
   "execution_count": 2,
   "metadata": {},
   "outputs": [],
   "source": [
    "def load_all_ancients(replace_nan=False, normalize=False):\n",
    "  x = np.load('data/genotype_ancient_refs.npy')\n",
    "  \n",
    "  #x_s = select_snps(x)\n",
    "\n",
    "  # normalization\n",
    "  genomean_path = 'data/genomean.csv'\n",
    "  genomean = pd.read_csv(genomean_path, header=0)\n",
    "  genomean = genomean['x'].values\n",
    "  snp_drift = np.sqrt((genomean / 2) * (1 - genomean/2)) \n",
    "\n",
    "  # replace nans by genomean\n",
    "  if replace_nan:\n",
    "    x_s_i = np.nan_to_num(x, nan=genomean)\n",
    "  else:\n",
    "    x_s_i = x\n",
    "\n",
    "  # normalization\n",
    "  if normalize:\n",
    "    x_s_i_c = (x_s_i - genomean) / snp_drift\n",
    "  else:\n",
    "    x_s_i_c = x_s_i\n",
    "\n",
    "  return x_s_i_c"
   ]
  },
  {
   "cell_type": "code",
   "execution_count": 3,
   "metadata": {},
   "outputs": [],
   "source": [
    "def select_snps(x):\n",
    "  present_modern_snps_path = 'data/SNPs_mwe.csv'\n",
    "  present_modern_snps = pd.read_csv(present_modern_snps_path, header=0)\n",
    "  modern_snps_indices = present_modern_snps['x'].values\n",
    "  return np.array([i[modern_snps_indices-1] for i in x])"
   ]
  },
  {
   "cell_type": "code",
   "execution_count": 4,
   "metadata": {},
   "outputs": [],
   "source": [
    "def load_and_preprocess_data(replace_nan=True):\n",
    "  x = parse_geno_file_path('data/modern_genotypes.geno') \n",
    "  x_s = select_snps(x)\n",
    "  return x_s"
   ]
  },
  {
   "cell_type": "code",
   "execution_count": 5,
   "metadata": {},
   "outputs": [],
   "source": [
    "def get_genomean():\n",
    "  genomean_path = 'data/genomean.csv'\n",
    "  genomean = pd.read_csv(genomean_path, header=0)\n",
    "  genomean = genomean['x'].values\n",
    "  return genomean"
   ]
  },
  {
   "cell_type": "code",
   "execution_count": 6,
   "metadata": {},
   "outputs": [],
   "source": [
    "def get_snp_drift():\n",
    "  genomean_path = 'data/genomean.csv'\n",
    "  genomean = pd.read_csv(genomean_path, header=0)\n",
    "  genomean = genomean['x'].values\n",
    "  snp_drift = np.sqrt((genomean / 2) * (1 - genomean/2))\n",
    "  return snp_drift"
   ]
  },
  {
   "cell_type": "code",
   "execution_count": null,
   "metadata": {},
   "outputs": [],
   "source": [
    "def parse_geno_file_path(file_path):\n",
    "    with open(file_path, 'r') as file:\n",
    "        geno_lines = file.readlines()\n",
    "    \n",
    "    geno_data = []\n",
    "    for idx, line in enumerate(geno_lines):\n",
    "        #if idx % 100000 == 0 and idx > 0:\n",
    "        #    print(f\"Parsed {idx} lines of 540248\")\n",
    "        geno_data.append(list(map(int, line.strip())))\n",
    "    \n",
    "    #print(\"transposing\")\n",
    "    d = np.array(geno_data, dtype=np.uint8).T\n",
    "    return(np.where(d==9., np.nan, d))"
   ]
  },
  {
   "cell_type": "markdown",
   "metadata": {},
   "source": [
    "# Variance raw data"
   ]
  },
  {
   "cell_type": "code",
   "execution_count": 7,
   "metadata": {},
   "outputs": [],
   "source": [
    "a_nn = load_all_ancients(replace_nan=False, normalize=False)"
   ]
  },
  {
   "cell_type": "code",
   "execution_count": 9,
   "metadata": {},
   "outputs": [],
   "source": [
    "var_a_nn = np.nanvar(a_nn, axis=0)"
   ]
  },
  {
   "cell_type": "code",
   "execution_count": 15,
   "metadata": {},
   "outputs": [
    {
     "name": "stdout",
     "output_type": "stream",
     "text": [
      "Parsed 100000 lines of 540248\n",
      "Parsed 200000 lines of 540248\n",
      "Parsed 300000 lines of 540248\n",
      "Parsed 400000 lines of 540248\n",
      "Parsed 500000 lines of 540248\n",
      "transposing\n"
     ]
    }
   ],
   "source": [
    "m_nn = load_and_preprocess_data(replace_nan=False)"
   ]
  },
  {
   "cell_type": "code",
   "execution_count": 18,
   "metadata": {},
   "outputs": [],
   "source": [
    "var_m_nn = np.nanvar(m_nn, axis=0)"
   ]
  },
  {
   "cell_type": "markdown",
   "metadata": {},
   "source": [
    "# Variance normalized data"
   ]
  },
  {
   "cell_type": "code",
   "execution_count": 20,
   "metadata": {},
   "outputs": [],
   "source": [
    "m_norm = (m_nn - get_genomean()) /get_snp_drift()\n",
    "a_norm = (a_nn - get_genomean()) /get_snp_drift()"
   ]
  },
  {
   "cell_type": "code",
   "execution_count": 21,
   "metadata": {},
   "outputs": [],
   "source": [
    "var_a_norm = np.nanvar(a_norm, axis=0)\n",
    "var_m_norm = np.nanvar(m_norm, axis=0)"
   ]
  },
  {
   "cell_type": "markdown",
   "metadata": {},
   "source": [
    "Problem: some of the features in the normalized ancients have an exreme high-variance. They are considered as outliers and replaced by the mean variance of the other features. Otherwise, they \"destroy\" the factor calculation..."
   ]
  },
  {
   "cell_type": "code",
   "execution_count": 34,
   "metadata": {},
   "outputs": [],
   "source": [
    "var_smaller_10 = np.where(var_a_norm<10)\n",
    "var_mean = np.mean(var_a_norm[var_smaller_10])\n",
    "var_a_norm[var_a_norm > 10] = var_mean"
   ]
  },
  {
   "cell_type": "code",
   "execution_count": 36,
   "metadata": {},
   "outputs": [],
   "source": [
    "V = np.load('data/eigenvectors.npy')\n",
    "Lambda = np.load('data/eigenvalues.npy')\n",
    "f_in = var_a_norm/var_m_norm\n",
    "f_out = ((V.T * f_in) @ V)"
   ]
  },
  {
   "cell_type": "code",
   "execution_count": 60,
   "metadata": {},
   "outputs": [],
   "source": [
    "np.save('paper_figures/variance_estimation/var_a_nn.npy', var_a_norm)\n",
    "np.save('paper_figures/variance_estimation/var_m_nn.npy', var_m_norm)\n",
    "np.save('paper_figures/variance_estimation/factors.npy', np.diag(f_out))"
   ]
  }
 ],
 "metadata": {
  "kernelspec": {
   "display_name": "Python 3",
   "language": "python",
   "name": "python3"
  },
  "language_info": {
   "codemirror_mode": {
    "name": "ipython",
    "version": 3
   },
   "file_extension": ".py",
   "mimetype": "text/x-python",
   "name": "python",
   "nbconvert_exporter": "python",
   "pygments_lexer": "ipython3",
   "version": "3.12.7"
  }
 },
 "nbformat": 4,
 "nbformat_minor": 2
}
